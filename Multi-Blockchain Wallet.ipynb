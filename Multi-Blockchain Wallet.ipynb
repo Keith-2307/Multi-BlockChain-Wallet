{
 "cells": [
  {
   "cell_type": "code",
   "execution_count": 1,
   "id": "42f2be50-ab87-4b24-8c6d-7553395d8536",
   "metadata": {},
   "outputs": [
    {
     "data": {
      "text/plain": [
       "True"
      ]
     },
     "execution_count": 1,
     "metadata": {},
     "output_type": "execute_result"
    }
   ],
   "source": [
    "import subprocess \n",
    "import json\n",
    "import os\n",
    "from dotenv import load_dotenv\n",
    "from constants import *\n",
    "from bit import Key, PrivateKey, PrivateKeyTestnet\n",
    "from bit.network import NetworkAPI\n",
    "from bit import *\n",
    "from web3 import Web3\n",
    "from eth_account import Account\n",
    "from web3.middleware import geth_poa_middleware\n",
    "from web3.gas_strategies.time_based import medium_gas_price_strategy\n",
    "load_dotenv()"
   ]
  },
  {
   "cell_type": "code",
   "execution_count": 2,
   "id": "5f0fd77b-f783-4f5f-b055-e7fa2989e87d",
   "metadata": {},
   "outputs": [
    {
     "name": "stdout",
     "output_type": "stream",
     "text": [
      "furnace atom forest inhale around sunset trust current satoshi suspect vintage salon thank usage arctic\n"
     ]
    }
   ],
   "source": [
    "# Load and set environment variables\n",
    "# import mnemonic from env\n",
    "    \n",
    "mnemonic = os.getenv('Mnemonic')\n",
    "print(mnemonic)"
   ]
  },
  {
   "cell_type": "code",
   "execution_count": 3,
   "id": "efc513eb-a7a5-4c49-8b45-004e52bcf6f1",
   "metadata": {},
   "outputs": [],
   "source": [
    "# Import constants.py and necessary functions from bit and web3\n",
    "w3 = Web3(Web3.HTTPProvider('http://127.0.0.1:8545'))\n",
    "w3.middleware_onion.inject(geth_poa_middleware, layer=0)\n",
    "w3.eth.setGasPriceStrategy(medium_gas_price_strategy)"
   ]
  },
  {
   "cell_type": "code",
   "execution_count": 4,
   "id": "77d12df6-04bb-422b-883a-9a86970ab1ba",
   "metadata": {},
   "outputs": [],
   "source": [
    "# Create a function called `derive_wallets`\n",
    "def derive_wallets(mnemonic, coin, numderive):\n",
    "    \"\"\"Use the subprocess library to create a shell command that calls the ./derive script from Python.\"\"\"\n",
    "    \n",
    "    command = f'php derive -g --mnemonic=\"{mnemonic}\" --numderive=\"{numderive}\" --coin=\"{coin}\" --cols=all --format=json'\n",
    "    p = subprocess.Popen(command, stdout=subprocess.PIPE, shell=True)\n",
    "    output, err = p.communicate()\n",
    "    p_status = p.wait()\n",
    "    return json.loads(output)\n",
    "    "
   ]
  },
  {
   "cell_type": "code",
   "execution_count": 5,
   "id": "87ac31f0-0533-4290-b6b3-3a748a7ad7ef",
   "metadata": {},
   "outputs": [
    {
     "data": {
      "text/plain": [
       "[{'path': \"m/44'/0'/0'/0/0\",\n",
       "  'address': '1P5ER5ZVy48UiZ88enAnwuPV3AsnWSrP4Q',\n",
       "  'xprv': 'xprvA39D5ARKSpVgEE9EzmN5AFtKiVQHbGjYq2V58QnJgk1ESexu8DhjnwZmpHsS8qrCxQMq7n1tnaVxyPd2gi1a5a43q4Toc5oxugoJLzbtCwg',\n",
       "  'xpub': 'xpub6G8ZUfxDHC3ySiDi6nu5XPq4GXEmzjTQCFQfvoBvF5YDKTJ3fm1zLjtFfZGEnLG3E5w9KaGQw3iYWHPRaWMtadjc4senw82wuctVT5dtdt8',\n",
       "  'privkey': 'L1yAgJ82P8YccStRhjxbzqhg4XDn9mQ4bvi442jHa4SXD5b8t7aj',\n",
       "  'pubkey': '02bd798a86171f68ad0ec9ad357b996d5e61ec05a9341405e107b284aaea5dea79',\n",
       "  'pubkeyhash': 'f21fa1266b490bf17cfff791175efd3fd2abe4ce',\n",
       "  'index': 0},\n",
       " {'path': \"m/44'/0'/0'/0/1\",\n",
       "  'address': '1PRc4vhyKaubQFP7ewqRy9mte5jStvRxoX',\n",
       "  'xprv': 'xprvA39D5ARKSpVgHLy2gVYNZyveqwd8CXHDgUE3ziHkCWnGwZmeXxbe9T2d3rG7qBg7dWJuu9e157UQrAdHfSkek79cgCzGipcHGY4kwPrzhhT',\n",
       "  'xpub': 'xpub6G8ZUfxDHC3yVq3VnX5Nw7sPPyTcbz153h9eo6hMkrKFpN6o5VuthFM6u7cSnqzeifaKXmmNMJNy9qQ3ajrpYuuLCkJCFSNQvi15edens89',\n",
       "  'privkey': 'KxrxZyKF9UyxLVhwhL7QjqWmiDWMbZokbTse3VXkgZj26176yBqa',\n",
       "  'pubkey': '025b24b664c9503db18ad0fcce391a2a0c30e3f852be135df86331d3637c222127',\n",
       "  'pubkeyhash': 'f5fa05fad794c505435157e7528cb33fc9fb4b5a',\n",
       "  'index': 1},\n",
       " {'path': \"m/44'/0'/0'/0/2\",\n",
       "  'address': '15bwVmH3vjqMVJ1RmQa6YpMGAgMfu2TrtZ',\n",
       "  'xprv': 'xprvA39D5ARKSpVgKtUYaqHSSX7jHSJKCAehbfGHUPQ3uMPq33pPMC1oCWk2VHasiR8b5iMrP4R3kzZVQau5pFn5AyJ1V4w8qMgLmtTyhX8erpm',\n",
       "  'xpub': 'xpub6G8ZUfxDHC3yYNZ1grpSof4TqU8obdNYxtBtGmofTgvour9XtjL3kK4WLZH2GD7rwYMNQXg6fUjNL18KPvnF1PsmdyDs3cDime7tQeYPhNo',\n",
       "  'privkey': 'L4wU9Dznu1yqrSfseTSyobR9j2rEwNSh7G3dnbrioeemoXEQ1Tg2',\n",
       "  'pubkey': '033d7e2123985cff55a97202e0ca66d899c7ba4e9de56f6b293d0ed1c1a5edd98d',\n",
       "  'pubkeyhash': '327c23015c62ade709fb5a80de0865eeda8b7c45',\n",
       "  'index': 2}]"
      ]
     },
     "execution_count": 5,
     "metadata": {},
     "output_type": "execute_result"
    }
   ],
   "source": [
    "# Test the function derive_wallets\n",
    "derive_wallets(mnemonic,'btc',3)"
   ]
  },
  {
   "cell_type": "code",
   "execution_count": 6,
   "id": "60478a1e-12d9-4ef6-a175-928b6c887eab",
   "metadata": {},
   "outputs": [],
   "source": [
    "#Create a dictionary object called coins that uses the derive_wallets function to derive ETH and BTCTEST wallets\n",
    "coins = {\"eth\", \"btc-test\"}\n",
    "numderive = 3"
   ]
  },
  {
   "cell_type": "code",
   "execution_count": 7,
   "id": "cf75c249-b890-440d-87f4-5440dbf27526",
   "metadata": {},
   "outputs": [],
   "source": [
    "# select child accounts (and thus, private keys) by accessing items in the coins dictionary\n",
    "keys = {}\n",
    "for coin in coins:\n",
    "    keys[coin]= derive_wallets(mnemonic, coin, numderive=3)"
   ]
  },
  {
   "cell_type": "code",
   "execution_count": 8,
   "id": "ad966c8c-b734-4950-a74d-985de2115cf7",
   "metadata": {},
   "outputs": [
    {
     "name": "stdout",
     "output_type": "stream",
     "text": [
      "\"0xe607df11f269d7f8be2b1cd99d598bdde7d2580b52b5023e611e69a8ce097215\"\n",
      "\"cQ6HiCQciJjki2UpJsMsAWeCxQF65R46drWesYfEDjth1JibujCR\"\n"
     ]
    }
   ],
   "source": [
    "# Setting the privatekey variables.\n",
    "\n",
    "eth_PrivateKey = keys[\"eth\"][0]['privkey']\n",
    "btc_test_PrivateKey = keys['btc-test'][0]['privkey']\n",
    "\n",
    "print(json.dumps(eth_PrivateKey, indent=3, sort_keys=True))\n",
    "print(json.dumps(btc_test_PrivateKey, indent=3, sort_keys=True))\n"
   ]
  },
  {
   "cell_type": "code",
   "execution_count": 9,
   "id": "7f995ab2-d535-426c-9995-cf1965e63f97",
   "metadata": {},
   "outputs": [
    {
     "name": "stdout",
     "output_type": "stream",
     "text": [
      "{\n",
      "   \"btc-test\": [\n",
      "      {\n",
      "         \"address\": \"mstnhD2bz9LkHFvoiNnNw1RrB8fhwBjF4P\",\n",
      "         \"index\": 0,\n",
      "         \"path\": \"m/44'/1'/0'/0/0\",\n",
      "         \"privkey\": \"cQ6HiCQciJjki2UpJsMsAWeCxQF65R46drWesYfEDjth1JibujCR\",\n",
      "         \"pubkey\": \"02a8567f59ff52df46b5e5de2dfbcedf5cdfe31c727327af75479e567078180929\",\n",
      "         \"pubkeyhash\": \"87c2a56f3d7d5e1b224519efe095d7631cbfb948\",\n",
      "         \"xprv\": \"tprv8jknxtp4fYBJS9VTSxGAc3X1kU7zCQDTPrqCoqCpJqBtEjZ73ffuv4DYUqKr8JcsGxqYdNyhksQCFxNBd35ije6QGLQQaaR37ni9JpSQ6AB\",\n",
      "         \"xpub\": \"tpubDGSq7JrJouryKcXFLbvm1TB8KVdvMjQMyARz6MF7j6zH5Dosg4VW6YqQexytwoFLk85kDzGtYYypyMK4qYrZ36gzkPCDsNk39ui633SFkJ1\"\n",
      "      },\n",
      "      {\n",
      "         \"address\": \"mriCwbGPXCh85tY41zNmHwfujaCvADnH6Z\",\n",
      "         \"index\": 1,\n",
      "         \"path\": \"m/44'/1'/0'/0/1\",\n",
      "         \"privkey\": \"cV7yy4vaQXcGNc3ojtG6p4BuU1dMUHZHKie2qPLoFwjszXNzHiQ2\",\n",
      "         \"pubkey\": \"032c95da3e3d70fa3da991c142709b308518bbd55f85b9bd851a859f25a55d840d\",\n",
      "         \"pubkeyhash\": \"7aca2fa2226150189364016493917966b831b297\",\n",
      "         \"xprv\": \"tprv8jknxtp4fYBJVDpkcjdWEXVgV84MKLC9gF6592LWFLrMAguixXP5YjHeaP3SqbxyMZXiqGZPSg3MXD5aV1FCK6aNroPqehpjC67C35uKJcE\",\n",
      "         \"xpub\": \"tpubDGSq7JrJouryNgrYWPJ6dw9o49aHUfP4FYgrRYNofcek1BAVavCfjDuWkWZehXfAWVKV4phXd7ktt8tc7R66jmH2HV5XFPczZGKdMYmvR86\"\n",
      "      },\n",
      "      {\n",
      "         \"address\": \"mnkktCE2zwkJyrEwAv5oKhnmNZLxekJmrG\",\n",
      "         \"index\": 2,\n",
      "         \"path\": \"m/44'/1'/0'/0/2\",\n",
      "         \"privkey\": \"cVaRjiUSyjPZrnpxp6QQWBGk7RFcpaMABegMjK2PNUjbe1VjtAvb\",\n",
      "         \"pubkey\": \"03b50cb993d622ae505cad3a33abe4eb9959e4a96b903d710a1927f1b7f35c26c7\",\n",
      "         \"pubkeyhash\": \"4f652d9f97bfa4707dfa4a9240bb1007a7635280\",\n",
      "         \"xprv\": \"tprv8jknxtp4fYBJWoyqPRgTzgS4adwvi9gZodDdf9pL3CBpxPcCLu2PEvNZAcWdx5soHSeKc6cXwPoBg9YBxEAhxtTvmEVyusSyn4HnKrFn7ta\",\n",
      "         \"xpub\": \"tpubDGSq7JrJouryQH1dH5M4Q66B9fTrsUsUNvpQwfrdTTzDnsrxyHqyRQzRLkxx7desu7MQwrzxWCxmDSmfCUyzJwNiLYb3Ru4oPiAgKa7r1gV\"\n",
      "      }\n",
      "   ],\n",
      "   \"eth\": [\n",
      "      {\n",
      "         \"address\": \"0x2A1ffd2a2f08DBB72A1429ddE4aeFD5C5956228e\",\n",
      "         \"index\": 0,\n",
      "         \"path\": \"m/44'/60'/0'/0/0\",\n",
      "         \"privkey\": \"0xe607df11f269d7f8be2b1cd99d598bdde7d2580b52b5023e611e69a8ce097215\",\n",
      "         \"pubkey\": \"03041834802ad4526f2095329b7b27a1862ba46cdccf074787289a92af6bad2e57\",\n",
      "         \"pubkeyhash\": \"65ead806d426a9f3845a378a328e475bf33a4dd0\",\n",
      "         \"xprv\": \"xprvA2t4bz7bvMfnhR9UiGiTCbDpzkTPoUhywozeBPDjrgiaeSfSQyj5J4CGwuaSXj8P2SmeQT3Dhii3rPJQ54mcaCmS1gZrU67rET5FdPgFSWR\",\n",
      "         \"xpub\": \"xpub6FsR1VeVkjE5uuDwpJFTZjAZYnHtCwRqK2vEymdMR2FZXEzaxX3KqrWkoAqSurh9R83Js7J1RunnUUREAFeH2qVGz7LVdkcqktRwVwDo1zY\"\n",
      "      },\n",
      "      {\n",
      "         \"address\": \"0x8b6E58E46Dc5F70643ceEb34B0ca12dB0f55B65c\",\n",
      "         \"index\": 1,\n",
      "         \"path\": \"m/44'/60'/0'/0/1\",\n",
      "         \"privkey\": \"0xe40a379161947b436ef894929014a172ca513b141bf3193edf3f70faeb3944a2\",\n",
      "         \"pubkey\": \"02155caf74a10b960c1a8fdef02be87d700940762d8e6a11f411324a01d5ebeb9f\",\n",
      "         \"pubkeyhash\": \"ff2371d94ba64c7d75f2870fe31beb9a9bd62228\",\n",
      "         \"xprv\": \"xprvA2t4bz7bvMfnjAt5VzBQVJiWcuhFgd1vuVVj5uN2bY39vW49ZB8gTQXczcwHFZgMWYrdce3t7qxbsNyqj2XhDjJQZEGHjea2ucCZmz1wR62\",\n",
      "         \"xpub\": \"xpub6FsR1VeVkjE5wexYc1iQrSfFAwXk65jnGiRKtHme9sa8oJPJ6iSw1Cr6qrQ2PJwoqWSNpDmnL9fwiDp5caDi1RvqrJRDxS1nivoKJsQ7gmE\"\n",
      "      },\n",
      "      {\n",
      "         \"address\": \"0xCAe5a7Ef3b8aF55B6f027Dd5428C3629C13cF4b6\",\n",
      "         \"index\": 2,\n",
      "         \"path\": \"m/44'/60'/0'/0/2\",\n",
      "         \"privkey\": \"0xca5bf6fa7c18994b2ea741e716dfd74ff328b5e06686308e23f930820b8190cf\",\n",
      "         \"pubkey\": \"0272123bbc9b45ded261f3b8fe4d7e450c29c558fbf45cb84b1e98f8c74accc1f0\",\n",
      "         \"pubkeyhash\": \"b3cae8d2c44f1af357156bdd7ae74b4bb81719c3\",\n",
      "         \"xprv\": \"xprvA2t4bz7bvMfnoaz3fKBD11ZbtWeGowEe9xeacv9ZG3dpyJ1XM717pwA6QPEBEQDHn4Mtt9TxbrsYp6Dcwdo5jdAWwxuBPfZYbKpbTswN6Ef\",\n",
      "         \"xpub\": \"xpub6FsR1VeVkjE6254WmLiDN9WLSYUmDPxVXBaBRJZApPAor6LfteKNNjUaFdb4UWUc61yygUxKDucHkL1tW1KZnp8gzDUCrNexQ3nwUnoZ2SU\"\n",
      "      }\n",
      "   ]\n",
      "}\n"
     ]
    }
   ],
   "source": [
    "# Print\n",
    "print(json.dumps(keys, indent=3, sort_keys=True))"
   ]
  },
  {
   "cell_type": "markdown",
   "id": "14271015-9f2d-47f1-b7ea-7394fd37a1e7",
   "metadata": {},
   "source": [
    "### Linking the transaction signing libraries"
   ]
  },
  {
   "cell_type": "code",
   "execution_count": 10,
   "id": "25ccfcaa-6d2f-4192-827f-91dc6ba3b7d5",
   "metadata": {},
   "outputs": [
    {
     "name": "stdout",
     "output_type": "stream",
     "text": [
      "<eth_account.signers.local.LocalAccount object at 0x000002DAC208E3C8>\n",
      "<PrivateKeyTestnet: mstnhD2bz9LkHFvoiNnNw1RrB8fhwBjF4P>\n"
     ]
    }
   ],
   "source": [
    "# Create a function called `priv_key_to_account` that converts privkey strings to account objects.\n",
    "def priv_key_to_account(coin, priv_key):\n",
    "    \"\"\"Convert the privkey string in a child key to an account object that bit or web3.py can use to transact\"\"\"\n",
    "    if coin == ETH:\n",
    "        return Account.privateKeyToAccount(priv_key)\n",
    "\n",
    "    if coin ==BTCTEST:\n",
    "        return PrivateKeyTestnet(priv_key)\n",
    "\n",
    "eth_acc = priv_key_to_account (ETH, eth_PrivateKey)\n",
    "btc_test_acc = priv_key_to_account (BTCTEST,btc_test_PrivateKey)\n",
    "\n",
    "print(eth_acc)\n",
    "print(btc_test_acc)\n"
   ]
  },
  {
   "cell_type": "code",
   "execution_count": 11,
   "id": "f2011a2e-dc5d-4492-a833-1bb293b97240",
   "metadata": {},
   "outputs": [],
   "source": [
    "# Create a function called `create_tx` that creates an unsigned transaction appropriate metadata.\n",
    "def create_tx(coin,account, recipient, amount):\n",
    "    if coin == ETH: \n",
    "        gasEstimate = w3.eth.estimateGas(\n",
    "            {\"from\":account.address, \"to\":recipient, \"value\": amount}\n",
    "        )\n",
    "        return { \n",
    "            \"to\": recipient,\n",
    "            \"from\": account.address,\n",
    "            \"value\": amount,\n",
    "            \"gasPrice\": w3.eth.gasPrice,\n",
    "            \"gas\": gasEstimate,\n",
    "            \"nonce\": w3.eth.getTransactionCount(account.address),\n",
    "            #\"chainID\": w3.eth.chain_ID\n",
    "        }\n",
    "    \n",
    "    elif coin == BTCTEST:\n",
    "        return PrivateKeyTestnet.prepare_transaction(account.address, [(recipient, amount, BTC)])"
   ]
  },
  {
   "cell_type": "code",
   "execution_count": 12,
   "id": "329d8408-6daf-46ad-b8ec-f61100c3010f",
   "metadata": {},
   "outputs": [],
   "source": [
    "# Create a function called `send_tx` that calls `create_tx`, signs and sends the transaction to the designated blockchain network..\n",
    "def send_tx(coin,account,recipient, amount):\n",
    "    \"\"\"Call create_tx, sign the transaction then send it to the designated network\"\"\"\n",
    "    tx = create_tx(coin, account, recipient, amount)\n",
    "    if coin == ETH:\n",
    "        signed_tx = account.sign_transaction(tx)\n",
    "        result = w3.eth.sendRawTransaction(signed_tx.rawTransaction) # For ETH\n",
    "        print(result.hex())\n",
    "        return result.hex()\n",
    "    \n",
    "    elif coin == BTCTEST:\n",
    "        tx_btctest = create_tx(coin, account, recipient, amount)\n",
    "        signed_tx = account.sign_transaction(tx)\n",
    "        print(signed_tx)\n",
    "        return NetworkAPI.broadcast_tx_testnet(signed_tx) # For BTCTEST"
   ]
  },
  {
   "cell_type": "markdown",
   "id": "d6759c74-920a-4b51-8e81-943291fcd9b4",
   "metadata": {},
   "source": [
    "## Functions to create, sign and execute Transactions for BTCTEST and ETH."
   ]
  },
  {
   "cell_type": "markdown",
   "id": "167c44b3-9748-44cd-8e2f-ea486de6bb19",
   "metadata": {},
   "source": [
    "### BTC-TEST Transaction"
   ]
  },
  {
   "cell_type": "code",
   "execution_count": 13,
   "id": "51b26fa8-0c33-4f2d-955a-72a055a82dfb",
   "metadata": {},
   "outputs": [
    {
     "data": {
      "text/plain": [
       "'{\"unspents\":[{\"amount\":72496,\"confirmations\":3,\"script\":\"76a91487c2a56f3d7d5e1b224519efe095d7631cbfb94888ac\",\"txid\":\"330d3b95bd00315f5afd0694df4e8c2b3c610a5ae86dbfa22cd9507e1570e093\",\"txindex\":1,\"type\":\"p2pkh\",\"vsize\":148,\"segwit\":false,\"sequence\":4294967295}],\"outputs\":[[\"mnkktCE2zwkJyrEwAv5oKhnmNZLxekJmrG\",10],[\"mstnhD2bz9LkHFvoiNnNw1RrB8fhwBjF4P\",49434]]}'"
      ]
     },
     "execution_count": 13,
     "metadata": {},
     "output_type": "execute_result"
    }
   ],
   "source": [
    "# create BTCTEST transaction\n",
    "create_tx(BTCTEST,btc_test_acc,\"mnkktCE2zwkJyrEwAv5oKhnmNZLxekJmrG\", 0.0000001)"
   ]
  },
  {
   "cell_type": "code",
   "execution_count": 14,
   "id": "93989b20-879a-4d6f-81ce-db520154be15",
   "metadata": {},
   "outputs": [
    {
     "name": "stdout",
     "output_type": "stream",
     "text": [
      "010000000193e070157e50d92ca2bf6de85a0a613c2b8c4edf9406fd5a5f3100bd953b0d33010000006b483045022100bb93669e3189c9f296fec9d45f22a390e5dca820a5f65475b919066e251982c102201db31da2cfc7cab2528f7e5f69e607aefe36280875aede8336ef19a62dd993e5012102a8567f59ff52df46b5e5de2dfbcedf5cdfe31c727327af75479e567078180929ffffffff0264000000000000001976a9147aca2fa2226150189364016493917966b831b29788acc0c00000000000001976a91487c2a56f3d7d5e1b224519efe095d7631cbfb94888ac00000000\n"
     ]
    }
   ],
   "source": [
    "# Send BTC transaction\n",
    "send_tx(BTCTEST,btc_test_acc,\"mriCwbGPXCh85tY41zNmHwfujaCvADnH6Z\", 0.000001)"
   ]
  },
  {
   "cell_type": "markdown",
   "id": "3611506c-77c1-4456-8694-2032953f4f67",
   "metadata": {},
   "source": [
    "### ETH Transaction"
   ]
  },
  {
   "cell_type": "code",
   "execution_count": 15,
   "id": "3dc7be6a-bad3-488a-ac69-931d920249bd",
   "metadata": {},
   "outputs": [
    {
     "data": {
      "text/plain": [
       "{'to': '0x8b6E58E46Dc5F70643ceEb34B0ca12dB0f55B65c',\n",
       " 'from': '0x2A1ffd2a2f08DBB72A1429ddE4aeFD5C5956228e',\n",
       " 'value': 10000,\n",
       " 'gasPrice': 1000000000,\n",
       " 'gas': 21000,\n",
       " 'nonce': 0}"
      ]
     },
     "execution_count": 15,
     "metadata": {},
     "output_type": "execute_result"
    }
   ],
   "source": [
    "create_tx(ETH,eth_acc,\"0x8b6E58E46Dc5F70643ceEb34B0ca12dB0f55B65c\", 10000)"
   ]
  },
  {
   "cell_type": "code",
   "execution_count": 21,
   "id": "94c1fa99-bbed-4bce-8ded-bb505df2236e",
   "metadata": {},
   "outputs": [],
   "source": [
    "send_tx(ETH, eth_acc,\"0x8b6E58E46Dc5F70643ceEb34B0ca12dB0f55B65c\", 10000)"
   ]
  },
  {
   "cell_type": "markdown",
   "id": "e1bf57ae-19ec-4efa-8a31-9b7c52fd4d97",
   "metadata": {},
   "source": [
    "### Connecting to HTTP Address"
   ]
  },
  {
   "cell_type": "code",
   "execution_count": 17,
   "id": "23e2c06d-bdb5-4c05-83a9-6a1cef9ee396",
   "metadata": {},
   "outputs": [],
   "source": [
    "#connecting to HTTP address\n",
    "w3 = Web3(Web3.HTTPProvider(\"http://127.0.0.1:8545/0xe607df11f269d7f8be2b1cd99d598bdde7d2580b52b5023e611e69a8ce097215\"))"
   ]
  },
  {
   "cell_type": "code",
   "execution_count": 18,
   "id": "6fa1b30e-7f75-4b5b-9b8d-faff4809b3be",
   "metadata": {},
   "outputs": [
    {
     "data": {
      "text/plain": [
       "True"
      ]
     },
     "execution_count": 18,
     "metadata": {},
     "output_type": "execute_result"
    }
   ],
   "source": [
    "# double check if  I am connected to blockchain. \n",
    "w3.isConnected()"
   ]
  },
  {
   "cell_type": "markdown",
   "id": "5cfdbed6-b66c-4fb8-9d81-07a2dc4ab566",
   "metadata": {},
   "source": [
    "### Account Balance Using Local Mining Blockchain"
   ]
  },
  {
   "cell_type": "code",
   "execution_count": 19,
   "id": "4944e078-3ee9-45ed-873c-c00989a7b722",
   "metadata": {},
   "outputs": [
    {
     "data": {
      "text/plain": [
       "904625697166532776746648320380374280103671755200316906558262375061821325312"
      ]
     },
     "execution_count": 19,
     "metadata": {},
     "output_type": "execute_result"
    }
   ],
   "source": [
    "w3.eth.getBalance(\"0x2A1ffd2a2f08DBB72A1429ddE4aeFD5C5956228e\")"
   ]
  },
  {
   "cell_type": "markdown",
   "id": "01d4a1a7-0647-4d6b-b5ea-a34009e3c9b6",
   "metadata": {},
   "source": [
    "### Cofirmation that the transactions were executed to the ETH account. The account balance indicates the transaction were completed."
   ]
  },
  {
   "cell_type": "code",
   "execution_count": 20,
   "id": "26410be6-5d8f-4bb9-8163-b262892b9a2b",
   "metadata": {},
   "outputs": [
    {
     "data": {
      "text/plain": [
       "0"
      ]
     },
     "execution_count": 20,
     "metadata": {},
     "output_type": "execute_result"
    }
   ],
   "source": [
    "# Transaction Confirmation\n",
    "w3.eth.getBalance(\"0x8b6E58E46Dc5F70643ceEb34B0ca12dB0f55B65c\")"
   ]
  },
  {
   "cell_type": "markdown",
   "id": "012d8e66-4768-47b5-a614-5ba913c0eed7",
   "metadata": {},
   "source": [
    "##"
   ]
  },
  {
   "cell_type": "code",
   "execution_count": null,
   "id": "7711e382-a62c-491a-9dee-f1e2ed8711f2",
   "metadata": {},
   "outputs": [],
   "source": []
  }
 ],
 "metadata": {
  "kernelspec": {
   "display_name": "Python 3",
   "language": "python",
   "name": "python3"
  },
  "language_info": {
   "codemirror_mode": {
    "name": "ipython",
    "version": 3
   },
   "file_extension": ".py",
   "mimetype": "text/x-python",
   "name": "python",
   "nbconvert_exporter": "python",
   "pygments_lexer": "ipython3",
   "version": "3.7.10"
  }
 },
 "nbformat": 4,
 "nbformat_minor": 5
}
